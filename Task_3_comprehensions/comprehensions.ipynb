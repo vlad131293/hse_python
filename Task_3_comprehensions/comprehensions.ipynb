{
 "cells": [
  {
   "cell_type": "markdown",
   "metadata": {},
   "source": [
    "### Задачи на comprehension, filter, map"
   ]
  },
  {
   "cell_type": "code",
   "execution_count": 1,
   "metadata": {},
   "outputs": [
    {
     "name": "stdout",
     "output_type": "stream",
     "text": [
      "1: [8, 16, 24, 32, 40, 48, 56, 64, 72, 80]\n",
      "2: [2, 12, 20, 21, 22, 23, 24, 25, 26, 27]\n",
      "3: [1, 2, 3, 4, 5, 6, 7, 8, 9, 11]\n",
      "4: 4\n",
      "5: 31ffrqrqmk\n",
      "6: ['43241']\n",
      "7: {'rwer': 4, 'gsd': 3, '1': 1, '4324': 4}\n",
      "8: ['Q', 'E', 'W', 'F', 'R']\n",
      "9: [1, 25, 361, 16]\n",
      "10: {(2, 8): 8.246211251235321}\n",
      "11: [4, 16, 36, 64, 100, 144, 196, 256, 324, 400]\n",
      "12: 8.94427190999916\n",
      "13: [(3, -1), (6, -2), (11, -5), (21, -11), (40, -24)]\n",
      "14: ['17255716', '484']\n"
     ]
    }
   ],
   "source": [
    "print('1:', ([i for i in range(1, 1001) if i % 8 == 0])[:10])\n",
    "\n",
    "print('2:', list(filter(lambda x: '2' in str(x), [i for i in range(1, 1000)]))[:10])\n",
    "\n",
    "print('3:', list(filter(lambda x: str(x) == str(x)[::-1], [i for i in range(1, 1000)]))[:10])\n",
    "\n",
    "func4 = (lambda x: len(str(x)) - len(str(x).replace(' ', '')))\n",
    "print('4:', func4(\"31 23 fs  1\"))\n",
    "\n",
    "vowels = ('a', 'e', 'i', 'o', 'u')\n",
    "func5 = lambda s: \"\".join([char for char in s.lower() if char not in vowels])\n",
    "print('5:', func5('31ffarqriqmk'))\n",
    "\n",
    "func6 = lambda s: [word for word in s.split(' ') if len(word) <= 5]\n",
    "print('6:', func6('wefewew 43241'))\n",
    "\n",
    "func7 = lambda s: {word: len(word) for word in s.split(' ')}\n",
    "print('7:', func7('rwer gsd 1 4324'))\n",
    "\n",
    "func8 = lambda s: list(set([char for char in s.upper() if char.isalpha()]))\n",
    "print('8:', func8('rWef14 qwq 341'))\n",
    "\n",
    "func9 = lambda nums: [num ** 2 for num in nums]\n",
    "print('9:', func9([1, 5, 19, 4]))\n",
    "\n",
    "eq = lambda x: 5 * x - 2\n",
    "func10 = lambda coors: {coor: (coor[0] ** 2 + coor[1] ** 2) ** 0.5 for coor in coors if coor[1] == eq(coor[0])}\n",
    "print('10:', func10([(1, 1), (2, 3), (5, 3), (2, 8)]))\n",
    "\n",
    "print('11:', ([x ** 2 for x in range(2, 27) if x % 2 == 0])[:10])\n",
    "\n",
    "func12 = lambda coors: max([(coor[0] ** 2 + coor[1] ** 2) ** 0.5 for coor in coors])\n",
    "print('12:', func12([(1, 1), (2, 3), (5, 3), (4, 8)]))\n",
    "\n",
    "func13 = lambda x, y: [(num_x + num_y, num_x - num_y) for num_x, num_y in zip(x, y)]\n",
    "print('13:', func13([1, 2, 3, 5, 8], [2, 4, 8, 16, 32]))\n",
    "\n",
    "func14 = lambda nums: [str(int(num) ** 2) for num in nums if int(num) % 2 == 0]\n",
    "print('14:', func14(['43141', '32441', '431', '4154', '43121', '22']))"
   ]
  },
  {
   "cell_type": "markdown",
   "metadata": {},
   "source": [
    "### 15"
   ]
  },
  {
   "cell_type": "code",
   "execution_count": 2,
   "metadata": {},
   "outputs": [],
   "source": [
    "input_str = \"\"\"name,Petya,Vasya,Masha,Vova\n",
    "grade,5,5,8,3\n",
    "subject,math,language,physics,math\n",
    "year,1999,2000,1995,1998\"\"\""
   ]
  },
  {
   "cell_type": "code",
   "execution_count": 3,
   "metadata": {},
   "outputs": [
    {
     "data": {
      "text/plain": [
       "[{'name': 'Petya', 'grade': '5', 'subject': 'math', 'year': '1999'},\n",
       " {'name': 'Vasya', 'grade': '5', 'subject': 'language', 'year': '2000'},\n",
       " {'name': 'Masha', 'grade': '8', 'subject': 'physics', 'year': '1995'},\n",
       " {'name': 'Vova', 'grade': '3', 'subject': 'math', 'year': '1998'}]"
      ]
     },
     "execution_count": 3,
     "metadata": {},
     "output_type": "execute_result"
    }
   ],
   "source": [
    "[{r[0]: r[i] for r in [r.split(',') for r in input_str.split('\\n')]} for i in range(1, len(input_str.split('\\n')[0].split(',')))]"
   ]
  },
  {
   "cell_type": "code",
   "execution_count": null,
   "metadata": {},
   "outputs": [],
   "source": []
  }
 ],
 "metadata": {
  "kernelspec": {
   "display_name": "Python 3",
   "language": "python",
   "name": "python3"
  },
  "language_info": {
   "codemirror_mode": {
    "name": "ipython",
    "version": 3
   },
   "file_extension": ".py",
   "mimetype": "text/x-python",
   "name": "python",
   "nbconvert_exporter": "python",
   "pygments_lexer": "ipython3",
   "version": "3.7.4"
  }
 },
 "nbformat": 4,
 "nbformat_minor": 2
}
