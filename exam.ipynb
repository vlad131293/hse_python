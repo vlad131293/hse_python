{
 "cells": [
  {
   "cell_type": "code",
   "execution_count": 28,
   "metadata": {},
   "outputs": [],
   "source": [
    "class StrategyDeal:\n",
    "\n",
    "    SPLIT = '-----'\n",
    "\n",
    "    def __init__(self, BANK, input_, targets, output_):\n",
    "        self.BANK = BANK,\n",
    "        self.input_ = input_\n",
    "        self.targets = targets\n",
    "        self.output_ = output_       \n",
    "    \n",
    "        \n",
    "    def get_targets(self) -> list:\n",
    "        # вернуть список таргетов в виде числовых значений float [21.5, 22.8, 23.5]\n",
    "        return self.targets\n",
    "\n",
    "    def get_target_percents(self):\n",
    "        # вернуть список процентов, как в примере, округленные до 3 знака [6.912, 13.376, 16.857]\n",
    "        percents = [round(target / self.input_ * 100, 3) for target in self.targets]\n",
    "        return percents\n",
    "\n",
    "    def get_target_banks(self, percents) -> list:\n",
    "        # список значений банков, если продавать активы по таргетам, как в пример, округленные до 3 знака [1069.12, 1133.764, 1168.573]\n",
    "        print(percents, self.BANK)\n",
    "        result = [round(self.BANK * per, 3) for per in percents]\n",
    "        return result\n",
    "\n",
    "    def get_template(self, i: int, target, percent, bank):\n",
    "        template = (f\"{i} target: {target}\\n\"\n",
    "                    f\"Percent: {percent}%\\n\" \n",
    "                    f\"Bank: {bank}\\n\")\n",
    "        return template\n",
    "\n",
    "    def __str__(self):\n",
    "        # текстовое представление сделки\n",
    "        temp = (f\"BANK: {self.BANK}\\n\"\n",
    "               f\"START_PRICE: {self.input_}\\n\"\n",
    "               f\"STOP_PRICE: {self.output_}\\n\")\n",
    "        targets= self.get_targets()\n",
    "        persents = self.get_target_percents()\n",
    "        target_banks = self.get_target_banks(persents)\n",
    "\n",
    "        templates = [temp]\n",
    "        for i in range(len(self.get_targets())):\n",
    "            template = self.get_template(i, targets[i], persents[i], target_banks[i])\n",
    "            templates.append(template)\n",
    "        return \"\\n\".join(templates)\n",
    "        \n",
    "\n",
    "def read_data(file_name):\n",
    "    with open(file_name, 'r', encoding='utf-8') as f:\n",
    "        content = f.read()\n",
    "    return content        \n",
    "\n",
    "def get_items(block: str) -> tuple:\n",
    "    for line in block.split('\\n'):\n",
    "            if line.startswith('BANK: '):\n",
    "                BANK = float(line.replace('BANK: ', ''))\n",
    "            elif line.startswith('Вход: '):\n",
    "                input = float(line.replace('Вход: ', ''))\n",
    "            elif line.startswith('Таргет: '):\n",
    "                targets = line.replace('Таргет: ', '').split(';')\n",
    "                targets = [float(target) for target in targets]\n",
    "            elif line.startswith('Выход: '):\n",
    "                output = float(line.replace('Выход: ', ''))\n",
    "    return BANK, input, targets, output\n",
    "\n",
    "def prepare_data(content):\n",
    "    result = []\n",
    "    SPLIT = '-----'\n",
    "    content = content.split(SPLIT)\n",
    "    content = list(filter(lambda x: len(x) > 0, content))\n",
    "    for block in content:\n",
    "        BANK, input_, targets, output_ = get_items(block)\n",
    "        result.append([BANK, input_, targets, output_])\n",
    "    return result\n",
    "\n",
    "    \n",
    "\n",
    "def write_data(file_name, data):\n",
    "    with open(file_name, 'r') as f:\n",
    "        content = f.readlines()\n",
    "    return content\n",
    "\n",
    "\n",
    "def main():\n",
    "    content = read_data('deals.txt')\n",
    "    result = prepare_data(content)\n",
    "    for block in result:\n",
    "        model = StrategyDeal(block[0], block[1], block[2], block[3])\n",
    "        \n",
    "    write_data('out.txt', str(model))\n"
   ]
  },
  {
   "cell_type": "code",
   "execution_count": 29,
   "metadata": {},
   "outputs": [
    {
     "data": {
      "text/plain": [
       "[[1000.0, 20.11, [21.5, 22.8, 23.5], 19.0],\n",
       " [50.0, 3.0, [3.105, 3.27, 3.4], 2.8]]"
      ]
     },
     "execution_count": 29,
     "metadata": {},
     "output_type": "execute_result"
    }
   ],
   "source": [
    "content = read_data('deals.txt')\n",
    "result = prepare_data(content)\n",
    "result"
   ]
  },
  {
   "cell_type": "code",
   "execution_count": null,
   "metadata": {},
   "outputs": [],
   "source": []
  }
 ],
 "metadata": {
  "kernelspec": {
   "display_name": "Python 3",
   "language": "python",
   "name": "python3"
  },
  "language_info": {
   "codemirror_mode": {
    "name": "ipython",
    "version": 3
   },
   "file_extension": ".py",
   "mimetype": "text/x-python",
   "name": "python",
   "nbconvert_exporter": "python",
   "pygments_lexer": "ipython3",
   "version": "3.8.2"
  },
  "orig_nbformat": 4,
  "vscode": {
   "interpreter": {
    "hash": "3ac5a746b033efc18280d70aa2916a6da8cce51de62a39a384785a76f47f96b6"
   }
  }
 },
 "nbformat": 4,
 "nbformat_minor": 2
}
